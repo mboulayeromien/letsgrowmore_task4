{
 "cells": [
  {
   "cell_type": "code",
   "execution_count": 1,
   "id": "35f7beea",
   "metadata": {},
   "outputs": [],
   "source": [
    "import matplotlib.pyplot as plt\n",
    "import tensorflow as tf\n",
    "from tensorflow.keras.preprocessing.image import ImageDataGenerator\n",
    "from tensorflow.keras.optimizers import Adam\n",
    "from tensorflow.keras.applications import ResNet50V2 as ResNet\n",
    "from tensorflow.keras.callbacks import EarlyStopping"
   ]
  },
  {
   "cell_type": "code",
   "execution_count": 2,
   "id": "16103c01",
   "metadata": {},
   "outputs": [],
   "source": [
    "batch_size = 64\n",
    "\n",
    "precision = tf.keras.metrics.Precision(name='precision')\n",
    "recall = tf.keras.metrics.Recall(name='recall')\n",
    "auc_roc = tf.keras.metrics.AUC(num_thresholds=200, name='auc_roc')\n",
    "train_dir = \"train/\"\n",
    "test_dir = \"test/\"\n",
    "num_classes = 7"
   ]
  },
  {
   "cell_type": "code",
   "execution_count": 3,
   "id": "7cf588a9",
   "metadata": {},
   "outputs": [],
   "source": [
    "def plot(history):\n",
    "    # Plot loss\n",
    "    plt.plot(history.history['loss'], label='train_loss')\n",
    "    plt.plot(history.history['val_loss'], label='val_loss')\n",
    "    plt.title('Training and Validation Loss')\n",
    "    plt.xlabel('Epoch')\n",
    "    plt.ylabel('Loss')\n",
    "    plt.legend()\n",
    "    plt.show()\n",
    "\n",
    "    # Plot accuracy\n",
    "    plt.plot(history.history['accuracy'], label='train_acc')\n",
    "    plt.plot(history.history['val_accuracy'], label='val_acc')\n",
    "    plt.title('Training and Validation Accuracy')\n",
    "    plt.xlabel('Epoch')\n",
    "    plt.ylabel('Accuracy')\n",
    "    plt.legend()\n",
    "    plt.show()\n",
    "\n",
    "    # Plot other performance metrics, such as precision, recall, f1_score, and auc_roc\n",
    "    plt.plot(history.history['precision'], label='precision')\n",
    "    plt.plot(history.history['recall'], label='recall')\n",
    "    plt.plot(history.history['auc_roc'], label='auc_roc')\n",
    "    plt.title('Training and Validation Performance Metrics')\n",
    "    plt.xlabel('Epoch')\n",
    "    plt.ylabel('Value')\n",
    "    plt.legend()\n",
    "    plt.show()"
   ]
  },
  {
   "cell_type": "code",
   "execution_count": 4,
   "id": "e1bbb283",
   "metadata": {},
   "outputs": [
    {
     "name": "stdout",
     "output_type": "stream",
     "text": [
      "Found 28709 images belonging to 7 classes.\n",
      "Found 7178 images belonging to 7 classes.\n"
     ]
    }
   ],
   "source": [
    "datagen = ImageDataGenerator(rescale=1 / 255)\n",
    "\n",
    "\n",
    "train_generator = datagen.flow_from_directory(\n",
    "    train_dir,\n",
    "    target_size=(224, 224),  \n",
    "    batch_size=64,\n",
    "    class_mode='categorical' \n",
    ")\n",
    "\n",
    "\n",
    "test_generator = datagen.flow_from_directory(\n",
    "    test_dir,\n",
    "    target_size=(224, 224),\n",
    "    batch_size=64,\n",
    "    class_mode='categorical'\n",
    ")"
   ]
  },
  {
   "cell_type": "code",
   "execution_count": null,
   "id": "8907fd94",
   "metadata": {},
   "outputs": [
    {
     "name": "stdout",
     "output_type": "stream",
     "text": [
      "Epoch 1/50\n",
      "449/449 [==============================] - 5146s 11s/step - loss: 1.4985 - accuracy: 0.4362 - precision: 0.6396 - recall: 0.2059 - auc_roc: 0.8015 - val_loss: 1.3235 - val_accuracy: 0.4957 - val_precision: 0.7689 - val_recall: 0.2267 - val_auc_roc: 0.8498\n",
      "Epoch 2/50\n",
      "449/449 [==============================] - 4881s 11s/step - loss: 1.3417 - accuracy: 0.4925 - precision: 0.6993 - recall: 0.2665 - auc_roc: 0.8436 - val_loss: 1.2700 - val_accuracy: 0.5134 - val_precision: 0.7496 - val_recall: 0.2887 - val_auc_roc: 0.8614\n",
      "Epoch 3/50\n",
      "449/449 [==============================] - ETA: 0s - loss: 1.2818 - accuracy: 0.5169 - precision: 0.7091 - recall: 0.3014 - auc_roc: 0.8588"
     ]
    }
   ],
   "source": [
    "resnet = ResNet(include_top=False, weights='imagenet', input_shape=(224, 224, 3))\n",
    "\n",
    "x = resnet.output\n",
    "x = tf.keras.layers.GlobalAveragePooling2D()(x)\n",
    "x = tf.keras.layers.Dense(512, activation='relu')(x)\n",
    "x = tf.keras.layers.Dropout(0.5)(x)\n",
    "\n",
    "predictions = tf.keras.layers.Dense(num_classes, activation='softmax')(x)\n",
    "\n",
    "model = tf.keras.models.Model(inputs=resnet.input, outputs=predictions)\n",
    "for layer in resnet.layers:\n",
    "    layer.trainable = False\n",
    "    \n",
    "early_stopping = EarlyStopping(monitor='val_loss', patience=5, restore_best_weights=True)\n",
    "\n",
    "model.compile(optimizer=Adam(learning_rate=0.001),\n",
    "              loss='categorical_crossentropy',\n",
    "              metrics=['accuracy', precision, recall, auc_roc])\n",
    "\n",
    "history = model.fit(train_generator,\n",
    "          epochs=50,\n",
    "          validation_data=test_generator,\n",
    "          callbacks=[early_stopping])"
   ]
  },
  {
   "cell_type": "code",
   "execution_count": null,
   "id": "11b887d9",
   "metadata": {},
   "outputs": [],
   "source": [
    "model.save('Face_Recognition.h5')"
   ]
  },
  {
   "cell_type": "code",
   "execution_count": null,
   "id": "f71f81b2",
   "metadata": {},
   "outputs": [],
   "source": [
    "plot(history)"
   ]
  },
  {
   "cell_type": "code",
   "execution_count": null,
   "id": "c93d9235",
   "metadata": {},
   "outputs": [],
   "source": []
  }
 ],
 "metadata": {
  "kernelspec": {
   "display_name": "Python 3 (ipykernel)",
   "language": "python",
   "name": "python3"
  },
  "language_info": {
   "codemirror_mode": {
    "name": "ipython",
    "version": 3
   },
   "file_extension": ".py",
   "mimetype": "text/x-python",
   "name": "python",
   "nbconvert_exporter": "python",
   "pygments_lexer": "ipython3",
   "version": "3.7.16"
  }
 },
 "nbformat": 4,
 "nbformat_minor": 5
}
